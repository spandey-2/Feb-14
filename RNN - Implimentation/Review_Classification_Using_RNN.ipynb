{
  "cells": [
    {
      "cell_type": "markdown",
      "metadata": {
        "id": "AMGXXgNF7k61"
      },
      "source": [
        "# __Text Classification Using RNN__\n",
        "\n",
        "Let's see how to classify the text using RNN (Recurrent Neural Network)."
      ]
    },
    {
      "cell_type": "code",
      "execution_count": 1,
      "metadata": {
        "colab": {
          "base_uri": "https://localhost:8080/"
        },
        "id": "RME2Qywv_p7Z",
        "outputId": "63e73dea-2d6d-42f1-ff21-bb92522060a1"
      },
      "outputs": [
        {
          "output_type": "stream",
          "name": "stderr",
          "text": [
            "[nltk_data] Downloading package stopwords to /root/nltk_data...\n",
            "[nltk_data]   Unzipping corpora/stopwords.zip.\n"
          ]
        },
        {
          "output_type": "execute_result",
          "data": {
            "text/plain": [
              "True"
            ]
          },
          "metadata": {},
          "execution_count": 1
        }
      ],
      "source": [
        "import nltk\n",
        "nltk.download('stopwords')"
      ]
    },
    {
      "cell_type": "markdown",
      "metadata": {
        "id": "VuJT1hcu92er"
      },
      "source": [
        "## Steps to be followed:\n",
        "\n",
        "1. Import the libraries\n",
        "2. Define the hyperparameter\n",
        "3. Preprocess the data and print the lengths of the labels and article lists\n",
        "4. Split the data into training and validation sets\n",
        "5. Initialize a tokenizer and fit it to the training articles\n",
        "6. Convert the training articles into sequences using the tokenizer\n",
        "7. Pad the sequence\n",
        "8. Print the length of validation sequences and the shape of validation padded\n",
        "9. Train the model\n",
        "10. Compile the model\n",
        "11. Plot the graph"
      ]
    },
    {
      "cell_type": "markdown",
      "metadata": {
        "id": "nKxl5ljN-IKH"
      },
      "source": [
        "### Step 1: Import the libraries\n",
        "- Import the required libraries."
      ]
    },
    {
      "cell_type": "code",
      "execution_count": 2,
      "metadata": {
        "id": "qLg1HxV27k64"
      },
      "outputs": [],
      "source": [
        "import csv\n",
        "import tensorflow as tf\n",
        "import numpy as np\n",
        "from tensorflow.keras.preprocessing.text import Tokenizer\n",
        "from tensorflow.keras.preprocessing.sequence import pad_sequences\n",
        "from nltk.corpus import stopwords\n",
        "STOPWORDS = set(stopwords.words('english'))\n",
        "import matplotlib.pyplot as plt\n"
      ]
    },
    {
      "cell_type": "markdown",
      "metadata": {
        "id": "8cvQu2uW_AF0"
      },
      "source": [
        "### Step 2: Define the hyperparameter\n",
        "- Set the value of __vocab_size__ to __5000__, representing the size of the vocabulary.\n",
        "- Set the value of __embedding_dim__ to __64__, specifying the dimensionality of the word embeddings.\n",
        "- Set the value of __max_length__ to __200__, indicating the maximum length of input sequences.\n",
        "- Set the value of __padding_type__ to __post__, specifying that padding should be added at the end of sequences.\n",
        "- Set the value of __trunc_type__ to __post__, indicating that truncation should be applied at the end of sequences.\n",
        "- Set the value of __oov_tok__ to __OOV__, representing the token to be used for out-of-vocabulary words.\n",
        "- Set the value of __training_portion__ to __0.8__, representing the proportion of data to be used for training."
      ]
    },
    {
      "cell_type": "code",
      "execution_count": 3,
      "metadata": {
        "id": "BecOwkf37k66"
      },
      "outputs": [],
      "source": [
        "vocab_size = 5000\n",
        "embedding_dim = 64\n",
        "max_length = 200\n",
        "padding_type = 'post'\n",
        "trunc_type = 'post'\n",
        "oov_tok = '<OOV>'\n",
        "training_portion = .8"
      ]
    },
    {
      "cell_type": "markdown",
      "metadata": {
        "id": "x5682GVs7k66"
      },
      "source": [
        "### Step 3: Preprocess the data and print the lengths of the labels and articles lists\n",
        "\n",
        "- Define two empty lists, articles, and labels to store the articles and labels, respectively.\n",
        "- Read the contents of the **bbc-text.csv** file using csv.reader and iterate through each row.\n",
        "- Extract the labels from the first column of each row and append it to the labels list.\n",
        "- Process the article from the second column by removing stopwords and replacing consecutive spaces with a single space, and then append it to the article list.\n",
        "- Print the lengths of the labels and article lists to display the number of labels and processed articles, respectively."
      ]
    },
    {
      "cell_type": "code",
      "execution_count": 4,
      "metadata": {
        "colab": {
          "base_uri": "https://localhost:8080/",
          "height": 216
        },
        "id": "YOrfsrUe7k67",
        "outputId": "f4aadba7-a063-4742-c802-f190e4b2dacf"
      },
      "outputs": [
        {
          "output_type": "error",
          "ename": "FileNotFoundError",
          "evalue": "[Errno 2] No such file or directory: 'bbc-text.csv'",
          "traceback": [
            "\u001b[0;31m---------------------------------------------------------------------------\u001b[0m",
            "\u001b[0;31mFileNotFoundError\u001b[0m                         Traceback (most recent call last)",
            "\u001b[0;32m<ipython-input-4-cae02d8bb43d>\u001b[0m in \u001b[0;36m<cell line: 0>\u001b[0;34m()\u001b[0m\n\u001b[1;32m      2\u001b[0m \u001b[0mlabels\u001b[0m \u001b[0;34m=\u001b[0m \u001b[0;34m[\u001b[0m\u001b[0;34m]\u001b[0m\u001b[0;34m\u001b[0m\u001b[0;34m\u001b[0m\u001b[0m\n\u001b[1;32m      3\u001b[0m \u001b[0;34m\u001b[0m\u001b[0m\n\u001b[0;32m----> 4\u001b[0;31m \u001b[0;32mwith\u001b[0m \u001b[0mopen\u001b[0m\u001b[0;34m(\u001b[0m\u001b[0;34m\"bbc-text.csv\"\u001b[0m\u001b[0;34m,\u001b[0m \u001b[0;34m'r'\u001b[0m\u001b[0;34m)\u001b[0m \u001b[0;32mas\u001b[0m \u001b[0mcsvfile\u001b[0m\u001b[0;34m:\u001b[0m\u001b[0;34m\u001b[0m\u001b[0;34m\u001b[0m\u001b[0m\n\u001b[0m\u001b[1;32m      5\u001b[0m     \u001b[0mreader\u001b[0m \u001b[0;34m=\u001b[0m \u001b[0mcsv\u001b[0m\u001b[0;34m.\u001b[0m\u001b[0mreader\u001b[0m\u001b[0;34m(\u001b[0m\u001b[0mcsvfile\u001b[0m\u001b[0;34m,\u001b[0m \u001b[0mdelimiter\u001b[0m\u001b[0;34m=\u001b[0m\u001b[0;34m','\u001b[0m\u001b[0;34m)\u001b[0m\u001b[0;34m\u001b[0m\u001b[0;34m\u001b[0m\u001b[0m\n\u001b[1;32m      6\u001b[0m     \u001b[0mnext\u001b[0m\u001b[0;34m(\u001b[0m\u001b[0mreader\u001b[0m\u001b[0;34m)\u001b[0m  \u001b[0;31m# skip header\u001b[0m\u001b[0;34m\u001b[0m\u001b[0;34m\u001b[0m\u001b[0m\n",
            "\u001b[0;31mFileNotFoundError\u001b[0m: [Errno 2] No such file or directory: 'bbc-text.csv'"
          ]
        }
      ],
      "source": [
        "articles = []\n",
        "labels = []\n",
        "\n",
        "with open(\"bbc-text.csv\", 'r') as csvfile:\n",
        "    reader = csv.reader(csvfile, delimiter=',')\n",
        "    next(reader)  # skip header\n",
        "    for row in reader:\n",
        "        label, article = row\n",
        "        article = ' '.join([word for word in article.split() if word not in STOPWORDS])\n",
        "        articles.append(article)\n",
        "        labels.append(label)\n",
        "print(len(labels))\n",
        "print(len(articles))"
      ]
    },
    {
      "cell_type": "markdown",
      "metadata": {
        "id": "Qtk-qqt67k67"
      },
      "source": [
        "__Observations:__\n",
        "- There are only **2,225** articles in the data.\n",
        "- Then, we split into a training set and a validation set, according to the parameter we set earlier, 80% for training, and 20% for validation."
      ]
    },
    {
      "cell_type": "markdown",
      "metadata": {
        "id": "C72gvCwGSa0k"
      },
      "source": [
        "### Step 4: Split the data into training and validation sets\n",
        "- Calculate the **train_size** by multiplying the length of the article list with __training_portion__ and converting it to an integer.\n",
        "- Create **train_articles** by slicing the article list from index **0** to **train_size.**\n",
        "- Create **train_labels** by slicing the labels list from index **0** to **train_size.**\n",
        "- Create validation_articles by slicing the articles list from **train_size** onward.\n",
        "- Create **validation_labels** by slicing the labels list from **train_size** onward.\n",
        "- Print the **train_size** to display the calculated value.\n",
        "\n",
        "- The lengths of **train_articles**, **train_labels**, **validation_articles**, and **validation_labels** represent the number of items in each list."
      ]
    },
    {
      "cell_type": "code",
      "source": [
        "print(set(labels))"
      ],
      "metadata": {
        "colab": {
          "base_uri": "https://localhost:8080/"
        },
        "id": "9iLpsnaO8BXW",
        "outputId": "9f507d56-3ba8-4483-a82f-78f2eac7dd7f"
      },
      "execution_count": null,
      "outputs": [
        {
          "output_type": "stream",
          "name": "stdout",
          "text": [
            "{'sport', 'entertainment', 'politics', 'business', 'tech'}\n"
          ]
        }
      ]
    },
    {
      "cell_type": "markdown",
      "source": [
        "__Observation:__\n",
        "\n",
        "- The output is a set containing the unique labels: 'business', 'tech', 'entertainment', 'politics', and 'sport'."
      ],
      "metadata": {
        "id": "B3bHoV3B8Gw6"
      }
    },
    {
      "cell_type": "code",
      "source": [
        "from sklearn.preprocessing import LabelEncoder\n",
        "\n",
        "# Convert labels to integers using LabelEncoder which automatically makes them 0-indexed\n",
        "label_encoder = LabelEncoder()\n",
        "labels_encoded = label_encoder.fit_transform(labels)"
      ],
      "metadata": {
        "id": "van-NAJD684_"
      },
      "execution_count": null,
      "outputs": []
    },
    {
      "cell_type": "code",
      "source": [
        "# Check unique labels and adjust the model's last Dense layer\n",
        "num_classes = len(np.unique(labels_encoded))\n",
        "print(\"Number of unique labels:\", num_classes)\n"
      ],
      "metadata": {
        "colab": {
          "base_uri": "https://localhost:8080/"
        },
        "id": "nhVRtDja8iOl",
        "outputId": "6e894287-b7bf-40ba-d0e4-bd04df9d7f51"
      },
      "execution_count": null,
      "outputs": [
        {
          "output_type": "stream",
          "name": "stdout",
          "text": [
            "Number of unique labels: 5\n"
          ]
        }
      ]
    },
    {
      "cell_type": "code",
      "source": [
        "# Split the data\n",
        "train_size = int(len(articles) * training_portion)\n",
        "train_articles = articles[:train_size]\n",
        "training_label_seq = labels_encoded[:train_size]\n",
        "\n",
        "validation_articles = articles[train_size:]\n",
        "validation_label_seq = labels_encoded[train_size:]\n",
        "\n",
        "\n",
        "print(train_size)\n",
        "print(len(train_articles))\n",
        "print(len(training_label_seq))\n",
        "print(len(validation_articles))\n",
        "print(len(validation_label_seq))"
      ],
      "metadata": {
        "colab": {
          "base_uri": "https://localhost:8080/"
        },
        "id": "yQc3ljSb1NBH",
        "outputId": "6c1754a1-50dd-4206-ab56-5a20ce338109"
      },
      "execution_count": null,
      "outputs": [
        {
          "output_type": "stream",
          "name": "stdout",
          "text": [
            "1780\n",
            "1780\n",
            "1780\n",
            "445\n",
            "445\n"
          ]
        }
      ]
    },
    {
      "cell_type": "markdown",
      "metadata": {
        "id": "dx4Pb61WT2F3"
      },
      "source": [
        "__Observations:__\n",
        "- The value of **train_size** is calculated based on the proportion of training data.\n",
        "- The lengths of **train_articles**, **training_label_seq**, **validation_articles**, and **validation_label_seq** represent the number of items in each list."
      ]
    },
    {
      "cell_type": "markdown",
      "metadata": {
        "id": "bSR2G2lrWrue"
      },
      "source": [
        "### Step 5: Initialize a tokenizer and fit it to the training articles\n",
        "\n",
        "- Initialize a **Tokenizer** object named tokenizer with the specified parameters: **num_words** representing the vocabulary size and **oov_token** representing the out-of-vocabulary token.\n",
        "- Fit the tokenizer on the training articles **(train_articles)** using the **fit_on_texts** method.\n",
        "\n",
        "  `fit_on_texts`: Updates internal vocabulary based on a list of texts. This method creates the vocabulary index based on word frequency. So if you give it a sample sentence like\n",
        "\n",
        "    `The cat sat on the mat.`\n",
        "\n",
        "  It will create a dictionary, where every word gets a unique integer value. 0 is reserved for padding.\n",
        "      word_index[\"the\"] = 1; word_index[\"cat\"] = 2.\n",
        "\n",
        "- This step updates the tokenizer's internal word index based on the words in the training articles.\n",
        "- Assign the word index obtained from the tokenizer to the variable **word_index.**\n",
        "- Extract the first 10 items from the word_index dictionary\n",
        "- Print the resulting dictionary."
      ]
    },
    {
      "cell_type": "code",
      "execution_count": null,
      "metadata": {
        "id": "2JrnZlTL7k68"
      },
      "outputs": [],
      "source": [
        "# Initialize and fit tokenizer on training data only\n",
        "tokenizer = Tokenizer(num_words = vocab_size, oov_token=oov_tok)\n",
        "tokenizer.fit_on_texts(train_articles)\n",
        "word_index = tokenizer.word_index"
      ]
    },
    {
      "cell_type": "code",
      "execution_count": null,
      "metadata": {
        "colab": {
          "base_uri": "https://localhost:8080/"
        },
        "id": "7lhT9_-f7k68",
        "outputId": "bcd6c65b-07a8-4dd5-d893-05ae09d11495"
      },
      "outputs": [
        {
          "output_type": "execute_result",
          "data": {
            "text/plain": [
              "{'<OOV>': 1,\n",
              " 'said': 2,\n",
              " 'mr': 3,\n",
              " 'would': 4,\n",
              " 'year': 5,\n",
              " 'also': 6,\n",
              " 'people': 7,\n",
              " 'new': 8,\n",
              " 'us': 9,\n",
              " 'one': 10}"
            ]
          },
          "metadata": {},
          "execution_count": 34
        }
      ],
      "source": [
        "dict(list(word_index.items())[0:10])"
      ]
    },
    {
      "cell_type": "markdown",
      "metadata": {
        "id": "CQ_XTmT_eU7b"
      },
      "source": [
        "__Observations:__\n",
        "- The code prints a dictionary containing the first 10 items from the word_index dictionary.\n",
        "- These items represent a subset of the word-to-index mappings generated by the tokenizer."
      ]
    },
    {
      "cell_type": "markdown",
      "metadata": {
        "id": "jTDip0vPe30D"
      },
      "source": [
        "### Step 6: Convert the training articles into sequences using the tokenizer\n",
        "- Convert the training articles **(train_articles)** into sequences of numbers using the `texts_to_sequences` method of the tokenizer object and assign the result to `train_sequences` variable\n",
        "    \n",
        "- Print the sequence representation of the 11th training article (index 10) by accessing **train_sequences[10].**"
      ]
    },
    {
      "cell_type": "code",
      "execution_count": null,
      "metadata": {
        "colab": {
          "base_uri": "https://localhost:8080/"
        },
        "id": "qaNkkgzP7k69",
        "outputId": "57f322df-cae2-4777-bfad-84194fec1796"
      },
      "outputs": [
        {
          "output_type": "stream",
          "name": "stdout",
          "text": [
            "[2430, 1, 225, 4991, 22, 641, 586, 225, 4991, 1, 1, 1660, 1, 1, 2430, 22, 564, 1, 1, 140, 278, 1, 140, 278, 796, 822, 661, 2305, 1, 1144, 1691, 1, 1718, 4992, 1, 1, 1, 1, 1, 4733, 1, 1, 122, 4510, 1, 2, 2873, 1503, 352, 4734, 1, 52, 341, 1, 352, 2170, 3958, 41, 22, 3792, 1, 1, 1, 1, 542, 1, 1, 1, 834, 631, 2365, 347, 4735, 1, 365, 22, 1, 787, 2366, 1, 4298, 138, 10, 1, 3663, 681, 3531, 1, 22, 1, 414, 822, 661, 1, 90, 13, 633, 1, 225, 4991, 1, 598, 1, 1691, 1021, 1, 4993, 807, 1861, 117, 1, 1, 1, 2973, 22, 1, 99, 278, 1, 1604, 4994, 542, 492, 1, 1441, 4736, 778, 1319, 1, 1858, 10, 33, 641, 319, 1, 62, 478, 564, 301, 1504, 22, 479, 1, 1, 1663, 1, 797, 1, 3065, 1, 1363, 6, 1, 2430, 564, 22, 2970, 4730, 1, 1, 1, 1, 1, 850, 39, 1822, 674, 297, 26, 979, 1, 882, 22, 361, 22, 13, 301, 1504, 1341, 374, 20, 63, 883, 1096, 4299, 247]\n"
          ]
        }
      ],
      "source": [
        "train_sequences  = tokenizer.texts_to_sequences(train_articles)\n",
        "\n",
        "# train_sequences is a list of lists\n",
        "print(train_sequences[10])"
      ]
    },
    {
      "cell_type": "markdown",
      "metadata": {
        "id": "__Jgr_cdfR_6"
      },
      "source": [
        "__Observation:__\n",
        "- The code prints the sequence representation of the 11th training article (index 10) in the **train_sequences** list.\n",
        "- The output is a list of integers, where each integer represents the index of a word in the tokenizer's word index vocabulary that corresponds to a word in the article."
      ]
    },
    {
      "cell_type": "markdown",
      "metadata": {
        "id": "E60-EoRMh58g"
      },
      "source": [
        "### Step 7: Pad the Sequence\n",
        "- Pad the sequences in **train_sequences** using the **pad_sequences** function. It is done so that every sequence has the same length.\n",
        "- Set the maximum length of the padded sequences to **max_length.**\n",
        "- Specify the padding type as **padding_type** and the truncation type as **trunc_type.**\n",
        "- Assign the padded sequences to the variable **train_padded.**"
      ]
    },
    {
      "cell_type": "code",
      "execution_count": null,
      "metadata": {
        "id": "msiF0l767k69"
      },
      "outputs": [],
      "source": [
        "train_padded = pad_sequences(train_sequences, maxlen=max_length, padding=padding_type, truncating=trunc_type)"
      ]
    },
    {
      "cell_type": "code",
      "execution_count": null,
      "metadata": {
        "colab": {
          "base_uri": "https://localhost:8080/"
        },
        "id": "EQbLYMWl7k6-",
        "outputId": "57cd5e7d-8a2d-4016-d41f-857decf7d454"
      },
      "outputs": [
        {
          "output_type": "stream",
          "name": "stdout",
          "text": [
            "[2432    1  225 4996   22  641  587  225 4996    1    1 1662    1    1\n",
            " 2432   22  564    1    1  140  278    1  140  278  796  822  662 2308\n",
            "    1 1145 1693    1 1720 4997    1    1    1    1    1 4739    1    1\n",
            "  122 4515    1    2 2874 1506  352 4740    1   52  341    1  352 2173\n",
            " 3962   41   22 3796    1    1    1    1  542    1    1    1  835  631\n",
            " 2367  347 4741    1  365   22    1  787 2368    1 4303  138   10    1\n",
            " 3666  682 3533    1   22    1  414  822  662    1   90   13  633    1\n",
            "  225 4996    1  599    1 1693 1021    1 4998  807 1863  117    1    1\n",
            "    1 2974   22    1   99  278    1 1607 4999  542  492    1 1444 4742\n",
            "  778 1320    1 1860   10   33  641  319    1   62  478  564  301 1507\n",
            "   22  479    1    1 1665    1  797    1 3067    1 1365    6    1 2432\n",
            "  564   22 2971 4736    1    1    1    1    1  850   39 1824  675  297\n",
            "   26  979    1  882   22  361   22   13  301 1507 1343  374   20   63\n",
            "  883 1097 4304  247    0    0    0    0    0    0    0    0    0    0\n",
            "    0    0    0    0]\n"
          ]
        }
      ],
      "source": [
        "print(train_padded[10])"
      ]
    },
    {
      "cell_type": "markdown",
      "metadata": {
        "id": "kR1yorJLkMpI"
      },
      "source": [
        "__Observation:__\n",
        "- The code prints the padded sequence representation of the 11th training article.\n",
        "- The output is a list of integers representing the word indices of the corresponding words in the article, after applying padding to ensure a consistent length (max_length) for all sequences."
      ]
    },
    {
      "cell_type": "markdown",
      "metadata": {
        "id": "5QD6M00flHAm"
      },
      "source": [
        "### Step 8: Print the length of validation sequences and the shape of validation padded\n",
        "- Convert the validation articles into sequences using the tokenizer and pad the sequences to a maximum length. Assign the result to **validation_padded.**\n",
        "- Print the length of **validation_sequences** and the shape of **validation_padded.**\n",
        "- Create a tokenizer for the labels and fit it on the labels list.\n",
        "- Convert the training and validation labels into sequences using the label tokenizer and store the results in **training_label_seq** and **validation_label_seq** as NumPy arrays."
      ]
    },
    {
      "cell_type": "code",
      "execution_count": null,
      "metadata": {
        "colab": {
          "base_uri": "https://localhost:8080/"
        },
        "id": "fpgc3k9y7k6-",
        "outputId": "95c22c7a-28a9-489e-d7bc-5c110f607cfb"
      },
      "outputs": [
        {
          "output_type": "stream",
          "name": "stdout",
          "text": [
            "445\n",
            "(445, 200)\n"
          ]
        }
      ],
      "source": [
        "validation_sequences = tokenizer.texts_to_sequences(validation_articles)\n",
        "validation_padded = pad_sequences(validation_sequences, maxlen=max_length, padding=padding_type, truncating=trunc_type)\n",
        "\n",
        "print(len(validation_sequences))\n",
        "print(validation_padded.shape)\n"
      ]
    },
    {
      "cell_type": "markdown",
      "metadata": {
        "id": "eFFWDC12mo1e"
      },
      "source": [
        "__Observations:__\n",
        "- The length of **validation_sequences**, indicating the number of sequences in the validation set.\n",
        "- The shape of **validation_padded**, representing the dimensions of the padded validation sequences."
      ]
    },
    {
      "cell_type": "code",
      "source": [
        "# Confirm that labels are correctly zero-indexed\n",
        "print(\"Unique training labels:\", np.unique(training_label_seq))\n",
        "print(\"Unique validation labels:\", np.unique(validation_label_seq))"
      ],
      "metadata": {
        "colab": {
          "base_uri": "https://localhost:8080/"
        },
        "id": "Im7CgB8X6hme",
        "outputId": "bc24267b-fc84-495d-d991-b7a18ea727b2"
      },
      "execution_count": null,
      "outputs": [
        {
          "output_type": "stream",
          "name": "stdout",
          "text": [
            "Unique training labels: [0 1 2 3 4]\n",
            "Unique validation labels: [0 1 2 3 4]\n"
          ]
        }
      ]
    },
    {
      "cell_type": "markdown",
      "metadata": {
        "id": "aefTdVG3ohC2"
      },
      "source": [
        "### Step 9: Train the model\n",
        "- Create a sequential model using **tf.keras.Sequential().**\n",
        "- Add an embedding layer to the model with the specified vocabulary size **(vocab_size)** and embedding dimension **(embedding_dim).**\n",
        "- Add a bidirectional SimpleRNN layer to the model with the same embedding dimension.\n",
        "- Add a dense layer to the model with the embedding dimension as the number of units and **relu** activation function.\n",
        "- Add a dense layer with `num_classes` which represents the number of unique classes/labels and the **softmax** activation function to the model.\n",
        "- Print a summary of the model's architecture using **model.summary().**"
      ]
    },
    {
      "cell_type": "code",
      "execution_count": null,
      "metadata": {
        "colab": {
          "base_uri": "https://localhost:8080/"
        },
        "id": "R2k0E1Cb7k6_",
        "outputId": "1f7f3a3b-4029-457d-b79e-b6477b5e9e02"
      },
      "outputs": [
        {
          "output_type": "stream",
          "name": "stdout",
          "text": [
            "Model: \"sequential_3\"\n",
            "_________________________________________________________________\n",
            " Layer (type)                Output Shape              Param #   \n",
            "=================================================================\n",
            " embedding_3 (Embedding)     (None, None, 64)          320000    \n",
            "                                                                 \n",
            " bidirectional_3 (Bidirecti  (None, 128)               16512     \n",
            " onal)                                                           \n",
            "                                                                 \n",
            " dense_6 (Dense)             (None, 64)                8256      \n",
            "                                                                 \n",
            " dense_7 (Dense)             (None, 5)                 325       \n",
            "                                                                 \n",
            "=================================================================\n",
            "Total params: 345093 (1.32 MB)\n",
            "Trainable params: 345093 (1.32 MB)\n",
            "Non-trainable params: 0 (0.00 Byte)\n",
            "_________________________________________________________________\n"
          ]
        }
      ],
      "source": [
        "# Create and compile the model.\n",
        "model = tf.keras.Sequential([\n",
        "    tf.keras.layers.Embedding(vocab_size, embedding_dim),\n",
        "    tf.keras.layers.Bidirectional(tf.keras.layers.SimpleRNN(embedding_dim)),\n",
        "    tf.keras.layers.Dense(embedding_dim, activation='relu'),\n",
        "    tf.keras.layers.Dense(num_classes, activation='softmax')\n",
        "])\n",
        "model.summary()"
      ]
    },
    {
      "cell_type": "markdown",
      "metadata": {
        "id": "2RYZ5eRIqHSk"
      },
      "source": [
        "__Observation:__\n",
        "- The code outputs a summary of the model's architecture, including the number of parameters and the shape of each layer in the model."
      ]
    },
    {
      "cell_type": "markdown",
      "metadata": {
        "id": "2es6RORPqq1M"
      },
      "source": [
        "### Step 10: Compile the model\n",
        "- Compile the model using **model.compile()** with the loss function set to **sparse_categorical_crossentropy**, the optimizer set to **adam**, and the metrics set to **accuracy.**\n",
        "- Set the number of epochs to 10.\n",
        "- Train the model using **model.fit()** with the training padded sequences **(train_padded)** and training label sequences **(training_label_seq).**\n",
        "- Specify the number of epochs as **num_epochs**, the validation data as the validation padded sequences **(validation_padded)** and validation label sequences **(validation_label_seq)**, and **verbose** mode as **2.**"
      ]
    },
    {
      "cell_type": "code",
      "execution_count": null,
      "metadata": {
        "id": "oOBn4QRv7k6_"
      },
      "outputs": [],
      "source": [
        "model.compile(loss='sparse_categorical_crossentropy', optimizer='adam', metrics=['accuracy'])"
      ]
    },
    {
      "cell_type": "code",
      "source": [
        "# Train the model\n",
        "num_epochs = 10\n",
        "\n",
        "history = model.fit(train_padded, training_label_seq, epochs=num_epochs, validation_data=(validation_padded, validation_label_seq), verbose=2)\n"
      ],
      "metadata": {
        "colab": {
          "base_uri": "https://localhost:8080/"
        },
        "id": "FjULhcuc53JG",
        "outputId": "784f39e5-3ea7-45d2-9076-10e8fe889812"
      },
      "execution_count": null,
      "outputs": [
        {
          "output_type": "stream",
          "name": "stdout",
          "text": [
            "Epoch 1/10\n",
            "56/56 - 8s - loss: 1.5367 - accuracy: 0.2944 - val_loss: 1.4310 - val_accuracy: 0.3708 - 8s/epoch - 145ms/step\n",
            "Epoch 2/10\n",
            "56/56 - 7s - loss: 1.2992 - accuracy: 0.4652 - val_loss: 1.4219 - val_accuracy: 0.3618 - 7s/epoch - 132ms/step\n",
            "Epoch 3/10\n",
            "56/56 - 6s - loss: 0.8730 - accuracy: 0.7376 - val_loss: 0.9964 - val_accuracy: 0.5843 - 6s/epoch - 100ms/step\n",
            "Epoch 4/10\n",
            "56/56 - 8s - loss: 0.2204 - accuracy: 0.9506 - val_loss: 0.7974 - val_accuracy: 0.7011 - 8s/epoch - 136ms/step\n",
            "Epoch 5/10\n",
            "56/56 - 5s - loss: 0.0314 - accuracy: 0.9983 - val_loss: 0.8392 - val_accuracy: 0.6697 - 5s/epoch - 94ms/step\n",
            "Epoch 6/10\n",
            "56/56 - 6s - loss: 0.0729 - accuracy: 0.9944 - val_loss: 0.9877 - val_accuracy: 0.6472 - 6s/epoch - 110ms/step\n",
            "Epoch 7/10\n",
            "56/56 - 6s - loss: 0.0099 - accuracy: 1.0000 - val_loss: 1.0919 - val_accuracy: 0.6315 - 6s/epoch - 110ms/step\n",
            "Epoch 8/10\n",
            "56/56 - 5s - loss: 0.0034 - accuracy: 1.0000 - val_loss: 1.0796 - val_accuracy: 0.6337 - 5s/epoch - 94ms/step\n",
            "Epoch 9/10\n",
            "56/56 - 7s - loss: 0.0022 - accuracy: 1.0000 - val_loss: 1.0752 - val_accuracy: 0.6517 - 7s/epoch - 129ms/step\n",
            "Epoch 10/10\n",
            "56/56 - 6s - loss: 0.0016 - accuracy: 1.0000 - val_loss: 1.1142 - val_accuracy: 0.6584 - 6s/epoch - 103ms/step\n"
          ]
        }
      ]
    },
    {
      "cell_type": "markdown",
      "metadata": {
        "id": "WqnhF_pirkJL"
      },
      "source": [
        "__Observations:__\n",
        "- The code trains the model for the specified number of epochs and records the training and validation accuracy and loss metrics.\n",
        "- The output is an object named history that contains information about the training process, such as the loss and accuracy values at each epoch."
      ]
    },
    {
      "cell_type": "markdown",
      "metadata": {
        "id": "JlqqXKGDtBhm"
      },
      "source": [
        "### Step 11: Plot the Graph\n",
        "- Define a function named **plot_graphs** that takes history and strings as inputs. Inside the function, plot the training and validation values of the given metric (string) from the history object using **plt.plot().**\n",
        "- Set the x-axis labels as **Epochs** and the y-axis labels as the given metric (string).\n",
        "- Call the **plot_graphs** function twice, first with **history** and **accuracy** as arguments, and then with **history** and **loss** as arguments.\n",
        "- Display the generated plots showing the training and validation values of the accuracy and loss metrics over the epochs."
      ]
    },
    {
      "cell_type": "code",
      "execution_count": null,
      "metadata": {
        "colab": {
          "base_uri": "https://localhost:8080/",
          "height": 927
        },
        "id": "ovA5JGsp7k6_",
        "outputId": "733a6fbe-8f9c-4088-bd38-e01d4f2cbc87"
      },
      "outputs": [
        {
          "output_type": "display_data",
          "data": {
            "text/plain": [
              "<Figure size 640x480 with 1 Axes>"
            ],
            "image/png": "[encoded data removed]"
          },
          "metadata": {}
        },
        {
          "output_type": "display_data",
          "data": {
            "text/plain": [
              "<Figure size 640x480 with 1 Axes>"
            ],
            "image/png": "[encoded data removed]"
          },
          "metadata": {}
        }
      ],
      "source": [
        "def plot_graphs(history, string):\n",
        "  plt.plot(history.history[string])\n",
        "  plt.plot(history.history['val_'+string])\n",
        "  plt.title(\"Performance plot on \"+string+\" v/s Epoch\")\n",
        "  plt.xlabel(\"Epochs\")\n",
        "  plt.ylabel(string)\n",
        "  plt.legend(['training_'+string, 'validation_'+string])\n",
        "  plt.show()\n",
        "\n",
        "plot_graphs(history, \"accuracy\")\n",
        "plot_graphs(history, \"loss\")"
      ]
    },
    {
      "cell_type": "markdown",
      "source": [
        "**Observation**\n",
        "\n",
        "The generated plots illustrate the training and validation accuracy and loss metrics over the epochs, providing a visual representation of the model's performance. This helps identify trends and potential overfitting or underfitting in the training process."
      ],
      "metadata": {
        "id": "aVFaCkErhZs8"
      }
    },
    {
      "cell_type": "code",
      "source": [
        "# Evaluate the model on the validation set\n",
        "val_loss, val_accuracy = model.evaluate(validation_padded, validation_label_seq, verbose=2)\n",
        "print(f\"Validation loss: {val_loss}\")\n",
        "print(f\"Validation accuracy: {val_accuracy}\")"
      ],
      "metadata": {
        "id": "3K3r99zKhgQ0",
        "colab": {
          "base_uri": "https://localhost:8080/"
        },
        "outputId": "a5f940dd-f2c4-4a2d-cd39-c3a0f476225f"
      },
      "execution_count": null,
      "outputs": [
        {
          "output_type": "stream",
          "name": "stdout",
          "text": [
            "14/14 - 1s - loss: 1.1142 - accuracy: 0.6584 - 588ms/epoch - 42ms/step\n",
            "Validation loss: 1.1141722202301025\n",
            "Validation accuracy: 0.6584269404411316\n"
          ]
        }
      ]
    },
    {
      "cell_type": "code",
      "source": [
        "# Evaluate the model on the training set\n",
        "train_loss, train_accuracy = model.evaluate(train_padded, training_label_seq, verbose=2)\n",
        "print(f\"Training loss: {train_loss}\")\n",
        "print(f\"Training accuracy: {train_accuracy}\")"
      ],
      "metadata": {
        "colab": {
          "base_uri": "https://localhost:8080/"
        },
        "id": "PBcNYwmY97Jo",
        "outputId": "f95c2e90-513b-4808-b941-d801467346f8"
      },
      "execution_count": null,
      "outputs": [
        {
          "output_type": "stream",
          "name": "stdout",
          "text": [
            "56/56 - 3s - loss: 0.0013 - accuracy: 1.0000 - 3s/epoch - 52ms/step\n",
            "Training loss: 0.0013326754560694098\n",
            "Training accuracy: 1.0\n"
          ]
        }
      ]
    },
    {
      "cell_type": "markdown",
      "source": [
        "**Analysis of Results**\n",
        "\n",
        "- Perfect Training Accuracy: A training accuracy of 100% suggests that the model has perfectly learned or memorized the training data. This is usually an indication of overfitting, where the model is tailored so closely to the training data that it fails to generalize well to new data.\n",
        "\n",
        "- High Validation Loss: The considerably higher validation loss compared to the training loss further supports the possibility of overfitting. A high validation loss means the model does not perform well on data it hasn't seen before, which is crucial for practical applications.\n",
        "\n",
        "- Moderate Validation Accuracy: The validation accuracy is significantly lower than the training accuracy"
      ],
      "metadata": {
        "id": "JkmwxWKt_CcD"
      }
    },
    {
      "cell_type": "markdown",
      "source": [
        "#### __Steps to Address Overfitting__\n",
        "\n",
        "To improve the model's generalization capabilities, consider the following strategies:\n",
        "\n",
        "1. Regularization: Implement regularization techniques such as L1 or L2 regularization, which add a penalty on the size of the coefficients.\n",
        "\n",
        "2. Dropout: Introduce dropout layers in your network. Dropout is a form of regularization that randomly sets the output features of hidden units to zero during training with a certain probability (commonly 0.5 for hidden layers).\n",
        "\n",
        "3. Model Simplification: Reduce the complexity of the model by using fewer layers or hidden units. Simpler models are less likely to overfit.\n",
        "\n",
        "4. Early Stopping: Use early stopping during training. This technique stops training as soon as the validation performance begins to deteriorate, regardless of the training performance.\n",
        "\n",
        "5. Data Augmentation: Increase the diversity of the training data through data augmentation techniques, if applicable. This is more common in tasks involving images or audio but can sometimes be adapted to text data.\n",
        "\n",
        "6. Increase Data Size: If feasible, increase the size of the training dataset. Models trained on more data are generally more robust and generalize better.\n",
        "\n",
        "7. Cross-Validation: Implement k-fold cross-validation to ensure that the model’s evaluation is robust and consistent across different subsets of the dataset."
      ],
      "metadata": {
        "id": "AtO8hj0V_QkV"
      }
    },
    {
      "cell_type": "markdown",
      "source": [
        "Let us introduce dropout layers to the current model and see if metrices are improving or not:"
      ],
      "metadata": {
        "id": "Rq26nlJm_jIU"
      }
    },
    {
      "cell_type": "code",
      "source": [
        "model_dropout = tf.keras.Sequential([\n",
        "    tf.keras.layers.Embedding(vocab_size, embedding_dim),\n",
        "    tf.keras.layers.Bidirectional(tf.keras.layers.SimpleRNN(embedding_dim)),\n",
        "    tf.keras.layers.Dropout(0.5),  # Add dropout\n",
        "    tf.keras.layers.Dense(embedding_dim, activation='relu'),\n",
        "    tf.keras.layers.Dropout(0.5),  # Add another dropout layer\n",
        "    tf.keras.layers.Dense(num_classes, activation='softmax')\n",
        "])\n",
        "\n",
        "model_dropout.compile(loss='sparse_categorical_crossentropy', optimizer='adam', metrics=['accuracy'])\n",
        "num_epochs = 10\n",
        "history = model_dropout.fit(train_padded, training_label_seq, epochs=num_epochs, validation_data=(validation_padded, validation_label_seq), verbose=2)\n"
      ],
      "metadata": {
        "colab": {
          "base_uri": "https://localhost:8080/"
        },
        "id": "YAOXrQfV-tKC",
        "outputId": "e23d56b3-9057-4e1b-face-6f6a2a339de4"
      },
      "execution_count": null,
      "outputs": [
        {
          "output_type": "stream",
          "name": "stdout",
          "text": [
            "Epoch 1/10\n",
            "56/56 - 8s - loss: 1.6229 - accuracy: 0.2213 - val_loss: 1.5246 - val_accuracy: 0.3281 - 8s/epoch - 144ms/step\n",
            "Epoch 2/10\n",
            "56/56 - 7s - loss: 1.4694 - accuracy: 0.3730 - val_loss: 1.3974 - val_accuracy: 0.4404 - 7s/epoch - 126ms/step\n",
            "Epoch 3/10\n",
            "56/56 - 5s - loss: 1.4131 - accuracy: 0.4275 - val_loss: 1.4270 - val_accuracy: 0.4045 - 5s/epoch - 92ms/step\n",
            "Epoch 4/10\n",
            "56/56 - 6s - loss: 0.9894 - accuracy: 0.6343 - val_loss: 0.9657 - val_accuracy: 0.6022 - 6s/epoch - 108ms/step\n",
            "Epoch 5/10\n",
            "56/56 - 6s - loss: 0.5695 - accuracy: 0.8180 - val_loss: 0.9260 - val_accuracy: 0.6315 - 6s/epoch - 110ms/step\n",
            "Epoch 6/10\n",
            "56/56 - 6s - loss: 0.2906 - accuracy: 0.9208 - val_loss: 0.8247 - val_accuracy: 0.6562 - 6s/epoch - 105ms/step\n",
            "Epoch 7/10\n",
            "56/56 - 9s - loss: 0.1584 - accuracy: 0.9624 - val_loss: 0.7523 - val_accuracy: 0.7236 - 9s/epoch - 157ms/step\n",
            "Epoch 8/10\n",
            "56/56 - 5s - loss: 0.0750 - accuracy: 0.9876 - val_loss: 0.7401 - val_accuracy: 0.7596 - 5s/epoch - 97ms/step\n",
            "Epoch 9/10\n",
            "56/56 - 7s - loss: 0.0492 - accuracy: 0.9910 - val_loss: 0.8209 - val_accuracy: 0.7146 - 7s/epoch - 128ms/step\n",
            "Epoch 10/10\n",
            "56/56 - 5s - loss: 0.0377 - accuracy: 0.9938 - val_loss: 0.7693 - val_accuracy: 0.7663 - 5s/epoch - 94ms/step\n"
          ]
        }
      ]
    },
    {
      "cell_type": "code",
      "source": [
        "# Evaluate the model on the validation set\n",
        "val_loss, val_accuracy = model_dropout.evaluate(validation_padded, validation_label_seq, verbose=2)\n",
        "print(f\"Validation loss: {val_loss}\")\n",
        "print(f\"Validation accuracy: {val_accuracy}\")"
      ],
      "metadata": {
        "colab": {
          "base_uri": "https://localhost:8080/"
        },
        "outputId": "caab2def-b0ba-4645-b636-f3a3e873c80d",
        "id": "mlW_TEa4AI_1"
      },
      "execution_count": null,
      "outputs": [
        {
          "output_type": "stream",
          "name": "stdout",
          "text": [
            "14/14 - 0s - loss: 0.7693 - accuracy: 0.7663 - 370ms/epoch - 26ms/step\n",
            "Validation loss: 0.7692967057228088\n",
            "Validation accuracy: 0.766292154788971\n"
          ]
        }
      ]
    },
    {
      "cell_type": "code",
      "source": [
        "# Evaluate the model on the training set\n",
        "train_loss, train_accuracy = model_dropout.evaluate(train_padded, training_label_seq, verbose=2)\n",
        "print(f\"Training loss: {train_loss}\")\n",
        "print(f\"Training accuracy: {train_accuracy}\")"
      ],
      "metadata": {
        "colab": {
          "base_uri": "https://localhost:8080/"
        },
        "outputId": "bde45f5e-8c92-4ffc-bfd0-7d0ba47adf40",
        "id": "VoBsapTPAI_1"
      },
      "execution_count": null,
      "outputs": [
        {
          "output_type": "stream",
          "name": "stdout",
          "text": [
            "56/56 - 4s - loss: 0.0013 - accuracy: 1.0000 - 4s/epoch - 70ms/step\n",
            "Training loss: 0.0013346042251214385\n",
            "Training accuracy: 1.0\n"
          ]
        }
      ]
    },
    {
      "cell_type": "markdown",
      "source": [
        "__Observation__\n",
        "\n",
        "Here, you can see that the validation accuracy has increased to ~77%"
      ],
      "metadata": {
        "id": "7ARfa2toBhOa"
      }
    },
    {
      "cell_type": "markdown",
      "source": [
        "Now lets explore one more step to address overfitting called **Early Stopping**"
      ],
      "metadata": {
        "id": "8VMnjoi2CNhr"
      }
    },
    {
      "cell_type": "markdown",
      "source": [
        "**Explanation of Early Stopping Parameters:**\n",
        "\n",
        "`monitor`: This is the metric to be monitored, usually 'val_loss' or 'val_accuracy'.\n",
        "\n",
        "`patience`: The number of epochs to continue training without improvement in the monitored metric. After this number, training stops.\n",
        "\n",
        "`restore_best_weights`: When set to True, the model weights are reverted to those that achieved the best value of the monitored metric. This is useful because even after the condition for patience is met, the best model may have occurred in an earlier epoch."
      ],
      "metadata": {
        "id": "flvLADEVE365"
      }
    },
    {
      "cell_type": "code",
      "source": [
        "from tensorflow.keras.callbacks import EarlyStopping\n",
        "\n",
        "# Configure early stopping\n",
        "early_stopping = EarlyStopping(\n",
        "    monitor='val_loss',  # Monitor validation loss\n",
        "    patience=3,  # Number of epochs with no improvement after which training will be stopped\n",
        "    restore_best_weights=True  # Restores model weights from the epoch with the best value of the monitored quantity\n",
        ")\n",
        "\n",
        "# Fit the model with dropout layer, with early stopping\n",
        "num_epochs = 10\n",
        "history = model_dropout.fit(\n",
        "    train_padded,\n",
        "    training_label_seq,\n",
        "    epochs=num_epochs,\n",
        "    validation_data=(validation_padded, validation_label_seq),\n",
        "    verbose=2,\n",
        "    callbacks=[early_stopping]  # Add early stopping to callbacks\n",
        ")\n"
      ],
      "metadata": {
        "colab": {
          "base_uri": "https://localhost:8080/"
        },
        "id": "F5-WSnrKBdco",
        "outputId": "48a41d95-96ca-4a80-e892-296b49631c69"
      },
      "execution_count": null,
      "outputs": [
        {
          "output_type": "stream",
          "name": "stdout",
          "text": [
            "Epoch 1/10\n",
            "56/56 - 6s - loss: 0.1988 - accuracy: 0.9365 - val_loss: 0.5597 - val_accuracy: 0.8315 - 6s/epoch - 101ms/step\n",
            "Epoch 2/10\n",
            "56/56 - 5s - loss: 0.0814 - accuracy: 0.9736 - val_loss: 0.7404 - val_accuracy: 0.8090 - 5s/epoch - 92ms/step\n",
            "Epoch 3/10\n",
            "56/56 - 7s - loss: 0.0453 - accuracy: 0.9854 - val_loss: 0.8356 - val_accuracy: 0.7775 - 7s/epoch - 129ms/step\n",
            "Epoch 4/10\n",
            "56/56 - 5s - loss: 0.0362 - accuracy: 0.9860 - val_loss: 0.7233 - val_accuracy: 0.8090 - 5s/epoch - 94ms/step\n"
          ]
        }
      ]
    },
    {
      "cell_type": "code",
      "source": [
        "# Evaluate model performance\n",
        "val_loss, val_accuracy = model_dropout.evaluate(validation_padded, validation_label_seq, verbose=2)\n",
        "print(f\"Validation loss: {val_loss}\")\n",
        "print(f\"Validation accuracy: {val_accuracy}\")\n"
      ],
      "metadata": {
        "colab": {
          "base_uri": "https://localhost:8080/"
        },
        "id": "HzJx6xsRFk3f",
        "outputId": "bdad2ee3-d813-4e35-d101-468bc1fdeb86"
      },
      "execution_count": null,
      "outputs": [
        {
          "output_type": "stream",
          "name": "stdout",
          "text": [
            "14/14 - 0s - loss: 0.5597 - accuracy: 0.8315 - 310ms/epoch - 22ms/step\n",
            "Validation loss: 0.5597330331802368\n",
            "Validation accuracy: 0.8314606547355652\n"
          ]
        }
      ]
    },
    {
      "cell_type": "markdown",
      "source": [
        "__Observation__\n",
        "\n",
        "- Before adding dropout and early stopping, the validation accuracy was around 65.84%. After these adjustments, it has improved significantly to 83.15%.\n",
        "The training accuracy previously was 100%, indicating overfitting.\n",
        "\n",
        "- With early stopping and dropout, this perfect score likely dropped (though you haven't provided the new training accuracy), which is actually beneficial in terms of reducing overfitting."
      ],
      "metadata": {
        "id": "_ilVbnjAHykG"
      }
    }
  ],
  "metadata": {
    "colab": {
      "provenance": []
    },
    "kernelspec": {
      "display_name": "Python 3 [3.10]",
      "language": "python",
      "name": "python3"
    },
    "language_info": {
      "codemirror_mode": {
        "name": "ipython",
        "version": 3
      },
      "file_extension": ".py",
      "mimetype": "text/x-python",
      "name": "python",
      "nbconvert_exporter": "python",
      "pygments_lexer": "ipython3",
      "version": "3.10.2"
    }
  },
  "nbformat": 4,
  "nbformat_minor": 0
}